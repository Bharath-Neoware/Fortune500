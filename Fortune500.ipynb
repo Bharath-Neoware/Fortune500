{
 "cells": [
  {
   "cell_type": "markdown",
   "metadata": {},
   "source": [
    "# Scrape data from Fortune500.com\n",
    "\n",
    "This program reads in html files downloaded from Fortune500.com and creates a Pandas DataFrame with information on assets, revenues, and profits for the top 500 companies (ranked by total revenues for their respective fiscal years)."
   ]
  },
  {
   "cell_type": "markdown",
   "metadata": {},
   "source": [
    "## Imports"
   ]
  },
  {
   "cell_type": "code",
   "execution_count": 1,
   "metadata": {
    "collapsed": false
   },
   "outputs": [],
   "source": [
    "import pandas as pd\n",
    "import bs4 # BeautifulSoup 4\n",
    "import re\n",
    "import platform"
   ]
  },
  {
   "cell_type": "markdown",
   "metadata": {},
   "source": [
    "## Write out ENVIRONMENT.md file\n",
    "\n",
    "Before moving on, generate an ENVIRONMENT.md file with details about computing environment and versions of imported dependencies.\n",
    "\n",
    "This is a shortcut (and likely very inferior) to actually using something like a [Docker](https://www.docker.com/) container, or using  [virtualenv](https://pypi.org/project/virtualenv/) and [virtualenvwrapper](https://virtualenvwrapper.readthedocs.io/en/latest/).\n",
    "\n",
    "But "
   ]
  },
  {
   "cell_type": "code",
   "execution_count": 2,
   "metadata": {
    "collapsed": false
   },
   "outputs": [],
   "source": [
    "import sys\n",
    "sys_info = sys.version\n",
    "os = platform.platform()\n",
    "python = platform.python_version()\n",
    "\n",
    "\n",
    "with open('ENVIRONMENT.md', \"w\", encoding='utf8') as outfile:\n",
    "    print(\"# Computation Environment and Dependencies\", file=outfile)\n",
    "    print(\"To help with replicability, below are the details about the Operating System, \\\n",
    "Python Environment, and Imported Libraries used in this analysis.\", file=outfile)\n",
    "    print(\"\", file=outfile)\n",
    "    print(\"## Operating System\", file=outfile)\n",
    "    print(\"{}\".format(os), file=outfile)\n",
    "    print(\"\", file=outfile)\n",
    "    print(\"## Python Details\", file=outfile)\n",
    "    print(\"\", file=outfile)\n",
    "    print(\"Python version == {}\".format(sys_info), file=outfile)\n",
    "    print(\"\", file=outfile)    \n",
    "    print(\"## Imported Libraries\", file=outfile)\n",
    "    print(\"\", file=outfile)\n",
    "    print(\"pandas version == {}\".format(pd.__version__), file=outfile)\n",
    "    print(\"bs4 version == {} (Beautiful Soup)\".format(bs4.__version__), file=outfile)\n",
    "    print(\"re version == {} (regular expression engine)\".format(re.__version__), file=outfile)\n",
    "    print(\"platform version == {}\".format(platform.__version__), file=outfile)\n"
   ]
  },
  {
   "cell_type": "markdown",
   "metadata": {},
   "source": [
    "### A Failed Attempt\n",
    "\n",
    "This cell would be used if I could figure out how to get the full html file to download with the requests library. As is, the Fortune.com site only partially loads the data in the html file, and then fills it further when the page has been scrolled to the bottom."
   ]
  },
  {
   "cell_type": "code",
   "execution_count": 3,
   "metadata": {
    "collapsed": true
   },
   "outputs": [],
   "source": [
    "#import requests\n",
    "#fortune_url = \"http://fortune.com/fortune500/\"\n",
    "#year = 2015\n",
    "#fortune_suffix = \"/list/filtered?sortBy=profits&first500\"\n",
    "#page = requests.get(fortune_url + str(year) + fortune_suffix)"
   ]
  },
  {
   "cell_type": "markdown",
   "metadata": {},
   "source": [
    "### Some Success...\n",
    "Because of the partal loading of the data, I had scroll to the bottom of each html file and then  manually download the html files.\n",
    "\n",
    "I downloaded 12 separate html files, by year (2015-2018) and variable of interest.\n",
    "\n",
    "These files are saved in the input\\ directory"
   ]
  },
  {
   "cell_type": "code",
   "execution_count": 4,
   "metadata": {
    "collapsed": true
   },
   "outputs": [],
   "source": [
    "start_year = 2015\n",
    "end_year = 2018\n",
    "\n",
    "vars = ['revenues', 'profits', 'assets']"
   ]
  },
  {
   "cell_type": "code",
   "execution_count": 5,
   "metadata": {
    "collapsed": false
   },
   "outputs": [],
   "source": [
    "def scrape_Fortune500_data(var, year):\n",
    "    '''\n",
    "    Purpose: Get data from a Fortune500 html file.\n",
    "    Parameters: 'var' -- can take 'revenues', 'profits', or 'assets'\n",
    "                'year' -- current years available are 2015 - 2018\n",
    "    Returns: A list with data for 'var'\n",
    "    '''\n",
    "           \n",
    "    # class_dict: Dictionary with variables as keys and html span classes as the values\n",
    "    class_dict = {'company' : 'column small-5 company-title',\n",
    "                  'rank' : 'column small-2 company-rank ',    # Trailing space is necessary\n",
    "                  'revenues' : 'column small-5 company-revenue',  # Same class for each of the vars\n",
    "                  'profits' : 'column small-5 company-revenue',\n",
    "                  'assets' : 'column small-5 company-revenue'}\n",
    "\n",
    "    if var in class_dict:\n",
    "        class_value = class_dict[str(var)]\n",
    "    else:\n",
    "        print (\"KeyError: Accepted keys: ['company', 'rank', 'revenues', 'profits', 'assets']\")        \n",
    "    \n",
    "    # ResultSets are BeautifulSoup objects, containing Tags (another BeautifulSoup object)\n",
    "    result_set = html_file.findAll('span', {'class': class_value}) \n",
    "    # print (result_set[0:10])\n",
    "\n",
    "    var_list = []\n",
    "    for tag in result_set:\n",
    "        str_tag = str(tag) # Convert BeautifulSoup Tag object to a string\n",
    "        \n",
    "        # Find item of interest\n",
    "        item = str_tag[str_tag.index('>')+1 : str_tag.index('</span>')]\n",
    "       \n",
    "        # Clean up company strings with &s in their names \n",
    "        if (var == 'company'):\n",
    "             item = re.sub('amp;', '', item) # '&' (AT&T, Procter & Gamble)\n",
    "        # Clean up numeric data\n",
    "        else:\n",
    "            item = re.sub('(,)|(\\$)|(\\.0)','', item)\n",
    "        \n",
    "        # Add each (cleaned up) item to the list\n",
    "        var_list.append(item)\n",
    "    \n",
    "    # Check that all 500 items were captured\n",
    "    assert (len(var_list) == 500), \"There were only {} records read in from {}.\".format(len(var_list), filename) #[filename, len(var_list)]\n",
    "    \n",
    "    return var_list"
   ]
  },
  {
   "cell_type": "code",
   "execution_count": 6,
   "metadata": {
    "collapsed": false
   },
   "outputs": [],
   "source": [
    "# Define empty dictionaries\n",
    "year_dict = {}\n",
    "var_dict = {}\n",
    "\n",
    "for year in range(start_year, end_year + 1):\n",
    "    \n",
    "    for var in vars:\n",
    "        \n",
    "        filename = \"input\\\\Fortune500_\" + var + \"_\" + str(year) + \".html\"\n",
    "        \n",
    "        with open(filename, encoding='utf8') as infile:\n",
    "            html_file = bs4.BeautifulSoup(infile, 'html.parser')\n",
    "        \n",
    "        # Scrape the data with function, defined above\n",
    "        # Get rank, company name, and variable of interest from each file\n",
    "        rank_list = scrape_Fortune500_data('rank', year)\n",
    "        company_list = scrape_Fortune500_data('company', year)\n",
    "        var_list = scrape_Fortune500_data(var, year)\n",
    "\n",
    "        # Put results in variable dictionary\n",
    "        var_dict[var] = pd.DataFrame({'year':year,\n",
    "                                      'rank':rank_list, \n",
    "                                      'company':company_list,\n",
    "                                       var:var_list})\n",
    " \n",
    "    # Merge results into a single dataframe and put it into a year dictionary\n",
    "    year_dict[year] = pd.merge(pd.merge(var_dict['revenues'],var_dict['profits'], on=['year', 'rank', 'company']),\n",
    "                               var_dict['assets'], on=['year', 'rank', 'company'])\n",
    "\n",
    "# Concatinate all the years into a single file\n",
    "final_df = pd.concat(year_dict, ignore_index=True)"
   ]
  },
  {
   "cell_type": "code",
   "execution_count": 7,
   "metadata": {
    "collapsed": false
   },
   "outputs": [
    {
     "data": {
      "text/html": [
       "<div>\n",
       "<table border=\"1\" class=\"dataframe\">\n",
       "  <thead>\n",
       "    <tr style=\"text-align: right;\">\n",
       "      <th></th>\n",
       "      <th>company</th>\n",
       "      <th>rank</th>\n",
       "      <th>revenues</th>\n",
       "      <th>year</th>\n",
       "      <th>profits</th>\n",
       "      <th>assets</th>\n",
       "    </tr>\n",
       "  </thead>\n",
       "  <tbody>\n",
       "    <tr>\n",
       "      <th>0</th>\n",
       "      <td>Walmart</td>\n",
       "      <td>1</td>\n",
       "      <td>485651</td>\n",
       "      <td>2015</td>\n",
       "      <td>16363</td>\n",
       "      <td>203706</td>\n",
       "    </tr>\n",
       "    <tr>\n",
       "      <th>1</th>\n",
       "      <td>Exxon Mobil</td>\n",
       "      <td>2</td>\n",
       "      <td>382597</td>\n",
       "      <td>2015</td>\n",
       "      <td>32520</td>\n",
       "      <td>349493</td>\n",
       "    </tr>\n",
       "    <tr>\n",
       "      <th>2</th>\n",
       "      <td>Chevron</td>\n",
       "      <td>3</td>\n",
       "      <td>203784</td>\n",
       "      <td>2015</td>\n",
       "      <td>19241</td>\n",
       "      <td>266026</td>\n",
       "    </tr>\n",
       "    <tr>\n",
       "      <th>3</th>\n",
       "      <td>Berkshire Hathaway</td>\n",
       "      <td>4</td>\n",
       "      <td>194673</td>\n",
       "      <td>2015</td>\n",
       "      <td>19872</td>\n",
       "      <td>526186</td>\n",
       "    </tr>\n",
       "    <tr>\n",
       "      <th>4</th>\n",
       "      <td>Apple</td>\n",
       "      <td>5</td>\n",
       "      <td>182795</td>\n",
       "      <td>2015</td>\n",
       "      <td>39510</td>\n",
       "      <td>231839</td>\n",
       "    </tr>\n",
       "  </tbody>\n",
       "</table>\n",
       "</div>"
      ],
      "text/plain": [
       "              company rank revenues  year profits  assets\n",
       "0             Walmart    1   485651  2015   16363  203706\n",
       "1         Exxon Mobil    2   382597  2015   32520  349493\n",
       "2             Chevron    3   203784  2015   19241  266026\n",
       "3  Berkshire Hathaway    4   194673  2015   19872  526186\n",
       "4               Apple    5   182795  2015   39510  231839"
      ]
     },
     "execution_count": 7,
     "metadata": {},
     "output_type": "execute_result"
    }
   ],
   "source": [
    "final_df.head()"
   ]
  },
  {
   "cell_type": "code",
   "execution_count": 8,
   "metadata": {
    "collapsed": false
   },
   "outputs": [
    {
     "data": {
      "text/html": [
       "<div>\n",
       "<table border=\"1\" class=\"dataframe\">\n",
       "  <thead>\n",
       "    <tr style=\"text-align: right;\">\n",
       "      <th></th>\n",
       "      <th>company</th>\n",
       "      <th>rank</th>\n",
       "      <th>revenues</th>\n",
       "      <th>year</th>\n",
       "      <th>profits</th>\n",
       "      <th>assets</th>\n",
       "    </tr>\n",
       "  </thead>\n",
       "  <tbody>\n",
       "    <tr>\n",
       "      <th>1995</th>\n",
       "      <td>Polaris Industries</td>\n",
       "      <td>496</td>\n",
       "      <td>5504.8</td>\n",
       "      <td>2018</td>\n",
       "      <td>172.5</td>\n",
       "      <td>3089.6</td>\n",
       "    </tr>\n",
       "    <tr>\n",
       "      <th>1996</th>\n",
       "      <td>Pioneer Natural Resources</td>\n",
       "      <td>497</td>\n",
       "      <td>5455</td>\n",
       "      <td>2018</td>\n",
       "      <td>833</td>\n",
       "      <td>17003</td>\n",
       "    </tr>\n",
       "    <tr>\n",
       "      <th>1997</th>\n",
       "      <td>ABM Industries</td>\n",
       "      <td>498</td>\n",
       "      <td>5453.6</td>\n",
       "      <td>2018</td>\n",
       "      <td>3.8</td>\n",
       "      <td>3812.6</td>\n",
       "    </tr>\n",
       "    <tr>\n",
       "      <th>1998</th>\n",
       "      <td>Vistra Energy</td>\n",
       "      <td>499</td>\n",
       "      <td>5430</td>\n",
       "      <td>2018</td>\n",
       "      <td>-254</td>\n",
       "      <td>14600</td>\n",
       "    </tr>\n",
       "    <tr>\n",
       "      <th>1999</th>\n",
       "      <td>Cintas</td>\n",
       "      <td>500</td>\n",
       "      <td>5428.9</td>\n",
       "      <td>2018</td>\n",
       "      <td>480.7</td>\n",
       "      <td>6844.1</td>\n",
       "    </tr>\n",
       "  </tbody>\n",
       "</table>\n",
       "</div>"
      ],
      "text/plain": [
       "                        company rank revenues  year profits  assets\n",
       "1995         Polaris Industries  496   5504.8  2018   172.5  3089.6\n",
       "1996  Pioneer Natural Resources  497     5455  2018     833   17003\n",
       "1997             ABM Industries  498   5453.6  2018     3.8  3812.6\n",
       "1998              Vistra Energy  499     5430  2018    -254   14600\n",
       "1999                     Cintas  500   5428.9  2018   480.7  6844.1"
      ]
     },
     "execution_count": 8,
     "metadata": {},
     "output_type": "execute_result"
    }
   ],
   "source": [
    "final_df.tail()"
   ]
  },
  {
   "cell_type": "code",
   "execution_count": 9,
   "metadata": {
    "collapsed": false
   },
   "outputs": [],
   "source": [
    "# Write out final df\n",
    "final_df.to_csv(\"output\\\\Fortune500_\" + str(start_year) + \"_\" + str(end_year) + \".csv\", \n",
    "                index=False,\n",
    "                columns=['year', 'company', 'rank'] + vars)"
   ]
  }
 ],
 "metadata": {
  "kernelspec": {
   "display_name": "Python 3",
   "language": "python",
   "name": "python3"
  },
  "language_info": {
   "codemirror_mode": {
    "name": "ipython",
    "version": 3
   },
   "file_extension": ".py",
   "mimetype": "text/x-python",
   "name": "python",
   "nbconvert_exporter": "python",
   "pygments_lexer": "ipython3",
   "version": "3.5.1"
  }
 },
 "nbformat": 4,
 "nbformat_minor": 0
}
